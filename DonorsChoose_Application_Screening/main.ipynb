{
 "cells": [
  {
   "cell_type": "markdown",
   "metadata": {},
   "source": [
    "# DonorsChoose.org Application Screening"
   ]
  },
  {
   "cell_type": "markdown",
   "metadata": {},
   "source": [
    "## 题目描述\n",
    "DonorsChoose.org由布朗克斯的一名高中教师于2000年创立，授权来自全国各地的公立学校教师为学生提供急需的材料和经验。 在任何特定时间，都有成千上万的课堂要求，可以通过任意数量的礼物来实现。\n",
    "DonorsChoose.org每年收到数十万个项目提案，用于需要资助的课堂项目。 现在，需要大量志愿者手动筛选每个提交，然后才能在DonorsChoose.org网站上发布。\n",
    "\n",
    "明年，DonorsChoose.org预计将收到近500,000个项目提案。 因此，他们需要解决三个主要问题：\n",
    "１．如何扩展当前的手动流程和资源，以筛选500,000个项目，以便尽可能快速有效地发布它们\n",
    "２．如何提高不同志愿者项目审核的一致性，改善教师的体验\n",
    "３．如何将志愿者时间集中在需要最多帮助的应用程序上\n",
    "\n",
    "比赛的目标是使用项目描述的文本以及关于项目，教师和学校的其他元数据来预测教师提交的DonorsChoose.org项目提案是否会被批准。 然后，DonorsChoose.org可以在批准之前使用此信息来识别最有可能需要进一步审核的项目。\n",
    "\n",
    "通过预筛选应用程序的算法，DonorsChoose.org可以快速自动批准某些应用程序，以便志愿者可以将时间花在更细致和详细的项目审查流程上，包括做更多工作来帮助教师开发符合特定资助机会的项目。\n",
    "\n",
    "您的机器学习算法可以帮助更多教师更快地获得资助，并且DonorsChoose.org的成本更低，从而可以将更多资金直接用于全国各地的教室。"
   ]
  },
  {
   "cell_type": "markdown",
   "metadata": {},
   "source": [
    "## 数据描述"
   ]
  },
  {
   "cell_type": "markdown",
   "metadata": {},
   "source": [
    "### 文件\n",
    "train.csv - 训练集\n",
    "test.csv - t\n",
    "resources.csv - 每个提案需要的资源; joins with test.csv and train.csv on id\n",
    "sample_submission.csv - 提交格式样例文件\n",
    "### 数据字段\n",
    "test.csv and train.csv:\n",
    "\n",
    "id - unique id of the project application\n",
    "teacher_id - id of the teacher submitting the application\n",
    "teacher_prefix - title of the teacher's name (Ms., Mr., etc.)\n",
    "school_state - US state of the teacher's school\n",
    "project_submitted_datetime - application submission timestamp\n",
    "project_grade_category - school grade levels (PreK-2, 3-5, 6-8, and 9-12)\n",
    "project_subject_categories - category of the project (e.g., \"Music & The Arts\")\n",
    "project_subject_subcategories - sub-category of the project (e.g., \"Visual Arts\")\n",
    "project_title - title of the project\n",
    "project_essay_1 - first essay*\n",
    "project_essay_2 - second essay*\n",
    "project_essay_3 - third essay*\n",
    "project_essay_4 - fourth essay*\n",
    "project_resource_summary - summary of the resources needed for the project\n",
    "teacher_number_of_previously_posted_projects - number of previously posted applications by the submitting teacher\n",
    "project_is_approved - whether DonorsChoose proposal was accepted (0=\"rejected\", 1=\"accepted\"); train.csv only\n",
    "* Note: Prior to May 17, 2016, the prompts for the essays were as follows:\n",
    "\n",
    "project_essay_1: \"Introduce us to your classroom\"\n",
    "project_essay_2: \"Tell us more about your students\"\n",
    "project_essay_3: \"Describe how your students will use the materials you're requesting\"\n",
    "project_essay_4: \"Close by sharing why your project will make a difference\"\n",
    "Starting on May 17, 2016, the number of essays was reduced from 4 to 2, and the prompts for the first 2 essays were changed to the following:\n",
    "\n",
    "project_essay_1: \"Describe your students: What makes your students special? Specific details about their background, your neighborhood, and your school are all helpful.\"\n",
    "project_essay_2: \"About your project: How will these materials make a difference in your students' learning and improve their school lives?\"\n",
    "\n",
    "对于project_submitted_datetime为2016-05-17及更高版本的所有项目，project_essay_3和project_essay_4的值将为NaN。\n",
    "\n",
    "resources.csv:\n",
    "提案还包括要求的资源。 每个项目可能包含多个请求的资源。 resources.csv中的每一行对应一个资源，因此多行可以通过id绑定到同一个项目。\n",
    "id - unique id of the project application; joins with test.csv. and train.csv on id\n",
    "description - description of the resource requested\n",
    "quantity - quantity of resource requested\n",
    "price - price of resource requested"
   ]
  },
  {
   "cell_type": "code",
   "execution_count": 1,
   "metadata": {},
   "outputs": [],
   "source": [
    "import numpy as np\n",
    "import pandas as pd\n",
    "import matplotlib.pyplot as plt\n",
    "import seaborn as sns"
   ]
  },
  {
   "cell_type": "markdown",
   "metadata": {},
   "source": [
    "## 读取数据"
   ]
  },
  {
   "cell_type": "code",
   "execution_count": 2,
   "metadata": {},
   "outputs": [
    {
     "name": "stderr",
     "output_type": "stream",
     "text": [
      "c:\\python\\python35\\lib\\site-packages\\IPython\\core\\interactiveshell.py:2785: DtypeWarning: Columns (11,12) have mixed types. Specify dtype option on import or set low_memory=False.\n",
      "  interactivity=interactivity, compiler=compiler, result=result)\n"
     ]
    }
   ],
   "source": [
    "train_df = pd.read_csv(\"input/train.csv\")\n",
    "test_df = pd.read_csv(\"input/test.csv\")\n",
    "resources_df = pd.read_csv(\"input/resources.csv\")"
   ]
  },
  {
   "cell_type": "code",
   "execution_count": 3,
   "metadata": {},
   "outputs": [
    {
     "data": {
      "text/html": [
       "<div>\n",
       "<style scoped>\n",
       "    .dataframe tbody tr th:only-of-type {\n",
       "        vertical-align: middle;\n",
       "    }\n",
       "\n",
       "    .dataframe tbody tr th {\n",
       "        vertical-align: top;\n",
       "    }\n",
       "\n",
       "    .dataframe thead th {\n",
       "        text-align: right;\n",
       "    }\n",
       "</style>\n",
       "<table border=\"1\" class=\"dataframe\">\n",
       "  <thead>\n",
       "    <tr style=\"text-align: right;\">\n",
       "      <th></th>\n",
       "      <th>id</th>\n",
       "      <th>teacher_id</th>\n",
       "      <th>teacher_prefix</th>\n",
       "      <th>school_state</th>\n",
       "      <th>project_submitted_datetime</th>\n",
       "      <th>project_grade_category</th>\n",
       "      <th>project_subject_categories</th>\n",
       "      <th>project_subject_subcategories</th>\n",
       "      <th>project_title</th>\n",
       "      <th>project_essay_1</th>\n",
       "      <th>project_essay_2</th>\n",
       "      <th>project_essay_3</th>\n",
       "      <th>project_essay_4</th>\n",
       "      <th>project_resource_summary</th>\n",
       "      <th>teacher_number_of_previously_posted_projects</th>\n",
       "      <th>project_is_approved</th>\n",
       "    </tr>\n",
       "  </thead>\n",
       "  <tbody>\n",
       "    <tr>\n",
       "      <th>0</th>\n",
       "      <td>p036502</td>\n",
       "      <td>484aaf11257089a66cfedc9461c6bd0a</td>\n",
       "      <td>Ms.</td>\n",
       "      <td>NV</td>\n",
       "      <td>2016-11-18 14:45:59</td>\n",
       "      <td>Grades PreK-2</td>\n",
       "      <td>Literacy &amp; Language</td>\n",
       "      <td>Literacy</td>\n",
       "      <td>Super Sight Word Centers</td>\n",
       "      <td>Most of my kindergarten students come from low...</td>\n",
       "      <td>I currently have a differentiated sight word c...</td>\n",
       "      <td>NaN</td>\n",
       "      <td>NaN</td>\n",
       "      <td>My students need 6 Ipod Nano's to create and d...</td>\n",
       "      <td>26</td>\n",
       "      <td>1</td>\n",
       "    </tr>\n",
       "    <tr>\n",
       "      <th>1</th>\n",
       "      <td>p039565</td>\n",
       "      <td>df72a3ba8089423fa8a94be88060f6ed</td>\n",
       "      <td>Mrs.</td>\n",
       "      <td>GA</td>\n",
       "      <td>2017-04-26 15:57:28</td>\n",
       "      <td>Grades 3-5</td>\n",
       "      <td>Music &amp; The Arts, Health &amp; Sports</td>\n",
       "      <td>Performing Arts, Team Sports</td>\n",
       "      <td>Keep Calm and Dance On</td>\n",
       "      <td>Our elementary school is a culturally rich sch...</td>\n",
       "      <td>We strive to provide our diverse population of...</td>\n",
       "      <td>NaN</td>\n",
       "      <td>NaN</td>\n",
       "      <td>My students need matching shirts to wear for d...</td>\n",
       "      <td>1</td>\n",
       "      <td>0</td>\n",
       "    </tr>\n",
       "    <tr>\n",
       "      <th>2</th>\n",
       "      <td>p233823</td>\n",
       "      <td>a9b876a9252e08a55e3d894150f75ba3</td>\n",
       "      <td>Ms.</td>\n",
       "      <td>UT</td>\n",
       "      <td>2017-01-01 22:57:44</td>\n",
       "      <td>Grades 3-5</td>\n",
       "      <td>Math &amp; Science, Literacy &amp; Language</td>\n",
       "      <td>Applied Sciences, Literature &amp; Writing</td>\n",
       "      <td>Lets 3Doodle to Learn</td>\n",
       "      <td>Hello;\\r\\nMy name is Mrs. Brotherton. I teach ...</td>\n",
       "      <td>We are looking to add some 3Doodler to our cla...</td>\n",
       "      <td>NaN</td>\n",
       "      <td>NaN</td>\n",
       "      <td>My students need the 3doodler. We are an SEM s...</td>\n",
       "      <td>5</td>\n",
       "      <td>1</td>\n",
       "    </tr>\n",
       "    <tr>\n",
       "      <th>3</th>\n",
       "      <td>p185307</td>\n",
       "      <td>525fdbb6ec7f538a48beebaa0a51b24f</td>\n",
       "      <td>Mr.</td>\n",
       "      <td>NC</td>\n",
       "      <td>2016-08-12 15:42:11</td>\n",
       "      <td>Grades 3-5</td>\n",
       "      <td>Health &amp; Sports</td>\n",
       "      <td>Health &amp; Wellness</td>\n",
       "      <td>\\\"Kid Inspired\\\" Equipment to Increase Activit...</td>\n",
       "      <td>My students are the greatest students but are ...</td>\n",
       "      <td>The student's project which is totally \\\"kid-i...</td>\n",
       "      <td>NaN</td>\n",
       "      <td>NaN</td>\n",
       "      <td>My students need balls and other activity equi...</td>\n",
       "      <td>16</td>\n",
       "      <td>0</td>\n",
       "    </tr>\n",
       "    <tr>\n",
       "      <th>4</th>\n",
       "      <td>p013780</td>\n",
       "      <td>a63b5547a7239eae4c1872670848e61a</td>\n",
       "      <td>Mr.</td>\n",
       "      <td>CA</td>\n",
       "      <td>2016-08-06 09:09:11</td>\n",
       "      <td>Grades 6-8</td>\n",
       "      <td>Health &amp; Sports</td>\n",
       "      <td>Health &amp; Wellness</td>\n",
       "      <td>We need clean water for our culinary arts class!</td>\n",
       "      <td>My students are athletes and students who are ...</td>\n",
       "      <td>For some reason in our kitchen the water comes...</td>\n",
       "      <td>NaN</td>\n",
       "      <td>NaN</td>\n",
       "      <td>My students need a water filtration system for...</td>\n",
       "      <td>42</td>\n",
       "      <td>1</td>\n",
       "    </tr>\n",
       "  </tbody>\n",
       "</table>\n",
       "</div>"
      ],
      "text/plain": [
       "        id                        teacher_id teacher_prefix school_state  \\\n",
       "0  p036502  484aaf11257089a66cfedc9461c6bd0a            Ms.           NV   \n",
       "1  p039565  df72a3ba8089423fa8a94be88060f6ed           Mrs.           GA   \n",
       "2  p233823  a9b876a9252e08a55e3d894150f75ba3            Ms.           UT   \n",
       "3  p185307  525fdbb6ec7f538a48beebaa0a51b24f            Mr.           NC   \n",
       "4  p013780  a63b5547a7239eae4c1872670848e61a            Mr.           CA   \n",
       "\n",
       "  project_submitted_datetime project_grade_category  \\\n",
       "0        2016-11-18 14:45:59          Grades PreK-2   \n",
       "1        2017-04-26 15:57:28             Grades 3-5   \n",
       "2        2017-01-01 22:57:44             Grades 3-5   \n",
       "3        2016-08-12 15:42:11             Grades 3-5   \n",
       "4        2016-08-06 09:09:11             Grades 6-8   \n",
       "\n",
       "            project_subject_categories  \\\n",
       "0                  Literacy & Language   \n",
       "1    Music & The Arts, Health & Sports   \n",
       "2  Math & Science, Literacy & Language   \n",
       "3                      Health & Sports   \n",
       "4                      Health & Sports   \n",
       "\n",
       "            project_subject_subcategories  \\\n",
       "0                                Literacy   \n",
       "1            Performing Arts, Team Sports   \n",
       "2  Applied Sciences, Literature & Writing   \n",
       "3                       Health & Wellness   \n",
       "4                       Health & Wellness   \n",
       "\n",
       "                                       project_title  \\\n",
       "0                           Super Sight Word Centers   \n",
       "1                             Keep Calm and Dance On   \n",
       "2                              Lets 3Doodle to Learn   \n",
       "3  \\\"Kid Inspired\\\" Equipment to Increase Activit...   \n",
       "4   We need clean water for our culinary arts class!   \n",
       "\n",
       "                                     project_essay_1  \\\n",
       "0  Most of my kindergarten students come from low...   \n",
       "1  Our elementary school is a culturally rich sch...   \n",
       "2  Hello;\\r\\nMy name is Mrs. Brotherton. I teach ...   \n",
       "3  My students are the greatest students but are ...   \n",
       "4  My students are athletes and students who are ...   \n",
       "\n",
       "                                     project_essay_2 project_essay_3  \\\n",
       "0  I currently have a differentiated sight word c...             NaN   \n",
       "1  We strive to provide our diverse population of...             NaN   \n",
       "2  We are looking to add some 3Doodler to our cla...             NaN   \n",
       "3  The student's project which is totally \\\"kid-i...             NaN   \n",
       "4  For some reason in our kitchen the water comes...             NaN   \n",
       "\n",
       "  project_essay_4                           project_resource_summary  \\\n",
       "0             NaN  My students need 6 Ipod Nano's to create and d...   \n",
       "1             NaN  My students need matching shirts to wear for d...   \n",
       "2             NaN  My students need the 3doodler. We are an SEM s...   \n",
       "3             NaN  My students need balls and other activity equi...   \n",
       "4             NaN  My students need a water filtration system for...   \n",
       "\n",
       "   teacher_number_of_previously_posted_projects  project_is_approved  \n",
       "0                                            26                    1  \n",
       "1                                             1                    0  \n",
       "2                                             5                    1  \n",
       "3                                            16                    0  \n",
       "4                                            42                    1  "
      ]
     },
     "execution_count": 3,
     "metadata": {},
     "output_type": "execute_result"
    }
   ],
   "source": [
    "train_df.head()"
   ]
  },
  {
   "cell_type": "markdown",
   "metadata": {},
   "source": [
    "## 分析每项特征唯一值数量占比和缺失信息"
   ]
  },
  {
   "cell_type": "code",
   "execution_count": 4,
   "metadata": {},
   "outputs": [
    {
     "name": "stdout",
     "output_type": "stream",
     "text": [
      "id unique value num, percentage and missing percentage: 182080, 1.0, 0.0\n",
      "teacher_id unique value num, percentage and missing percentage: 104414, 0.573451230228471, 0.0\n",
      "teacher_prefix unique value num, percentage and missing percentage: 6, 3.295254833040422e-05, 2.1968365553602813e-05\n",
      "school_state unique value num, percentage and missing percentage: 51, 0.0002800966608084358, 0.0\n",
      "project_submitted_datetime unique value num, percentage and missing percentage: 180439, 0.9909874780316345, 0.0\n",
      "project_grade_category unique value num, percentage and missing percentage: 4, 2.1968365553602813e-05, 0.0\n",
      "project_subject_categories unique value num, percentage and missing percentage: 51, 0.0002800966608084358, 0.0\n",
      "project_subject_subcategories unique value num, percentage and missing percentage: 407, 0.002235281195079086, 0.0\n",
      "project_title unique value num, percentage and missing percentage: 164282, 0.9022517574692442, 0.0\n",
      "project_essay_1 unique value num, percentage and missing percentage: 147689, 0.8111214850615114, 0.0\n",
      "project_essay_2 unique value num, percentage and missing percentage: 180984, 0.9939806678383128, 0.0\n",
      "project_essay_3 unique value num, percentage and missing percentage: 6360, 0.03492970123022847, 0.964993409490334\n",
      "project_essay_4 unique value num, percentage and missing percentage: 6337, 0.03480338312829526, 0.964993409490334\n",
      "project_resource_summary unique value num, percentage and missing percentage: 179730, 0.9870935852372583, 0.0\n",
      "teacher_number_of_previously_posted_projects unique value num, percentage and missing percentage: 401, 0.002202328646748682, 0.0\n",
      "project_is_approved unique value num, percentage and missing percentage: 2, 1.0984182776801407e-05, 0.0\n"
     ]
    }
   ],
   "source": [
    "missing_df = train_df.isnull().sum(axis=0)\n",
    "for column in train_df.columns:\n",
    "    print (column + \" unique value num, percentage and missing percentage: {}, {}, {}\".format(train_df[column].unique().shape[0], train_df[column].unique().shape[0] / train_df.shape[0], missing_df[column] / train_df.shape[0]))"
   ]
  },
  {
   "cell_type": "markdown",
   "metadata": {},
   "source": [
    "## 分析id 列\n",
    " 从 上面我们看到id列唯一值得占比达到100%，所以可以丢弃此列"
   ]
  },
  {
   "cell_type": "markdown",
   "metadata": {},
   "source": [
    "## 分析teacher_id列\n",
    "teacher_id列的唯一值占百分比达到57%，说明一个老师不止申请了一个项目，我们因此衍生出新列：每个老师申请项目的数量"
   ]
  },
  {
   "cell_type": "markdown",
   "metadata": {},
   "source": [
    "## 分析teacher_prefix列\n",
    "该列为老师姓名的称呼值为（mr.mrs..)，唯一值数量为5，可以将该特征作为一个类别变量"
   ]
  },
  {
   "cell_type": "code",
   "execution_count": 5,
   "metadata": {},
   "outputs": [
    {
     "data": {
      "text/plain": [
       "['Ms.', 'Mrs.', 'Mr.', 'Teacher', 'Dr.', nan]"
      ]
     },
     "execution_count": 5,
     "metadata": {},
     "output_type": "execute_result"
    }
   ],
   "source": [
    "train_df['teacher_prefix'].unique().tolist()"
   ]
  },
  {
   "cell_type": "code",
   "execution_count": 43,
   "metadata": {
    "scrolled": true
   },
   "outputs": [
    {
     "data": {
      "image/png": "[encoded data removed]",
      "text/plain": [
       "<Figure size 1080x720 with 1 Axes>"
      ]
     },
     "metadata": {},
     "output_type": "display_data"
    }
   ],
   "source": [
    "# 统计申请教师称呼和申请通过数量的关系。\n",
    "tmp = train_df[['teacher_prefix', 'project_is_approved', 'id']].groupby(['teacher_prefix', 'project_is_approved'])['id'].count().reset_index().rename(index=str, columns={\"id\": 'num'})\n",
    "approved_num_by_prefix = tmp[tmp['project_is_approved'] == 1]\n",
    "non_approved_num_by_prefix = tmp[tmp['project_is_approved'] == 0]\n",
    "label = approved_num_by_prefix['teacher_prefix'].tolist()\n",
    "bar_width = 0.35\n",
    "index = np.arange(len(label))\n",
    "fig, ax = plt.subplots(figsize=(15, 10))\n",
    "ax.bar(index, approved_num_by_prefix['num'], bar_width,label = 'approved num')\n",
    "ax.bar(index + bar_width, non_approved_num_by_prefix['num'], bar_width, label = 'non approved num')\n",
    "ax.set_xticks(index + bar_width / 2)\n",
    "ax.set_xticklabels(label)\n",
    "ax.legend()\n",
    "plt.show()"
   ]
  },
  {
   "cell_type": "markdown",
   "metadata": {},
   "source": [
    "## 分析school_state列\n",
    "该特征为教师所在学校的状态"
   ]
  },
  {
   "cell_type": "code",
   "execution_count": 44,
   "metadata": {},
   "outputs": [
    {
     "data": {
      "text/plain": [
       "array(['NV', 'GA', 'UT', 'NC', 'CA', 'DE', 'MO', 'SC', 'IN', 'IL', 'VA',\n",
       "       'PA', 'NY', 'FL', 'NJ', 'TX', 'LA', 'ID', 'OH', 'OR', 'MD', 'WA',\n",
       "       'MA', 'KY', 'AZ', 'MI', 'CT', 'AR', 'WV', 'NM', 'WI', 'MN', 'OK',\n",
       "       'AL', 'TN', 'IA', 'KS', 'CO', 'DC', 'WY', 'NH', 'HI', 'SD', 'MT',\n",
       "       'MS', 'RI', 'VT', 'ME', 'NE', 'AK', 'ND'], dtype=object)"
      ]
     },
     "execution_count": 44,
     "metadata": {},
     "output_type": "execute_result"
    }
   ],
   "source": [
    "train_df['school_state'].unique()"
   ]
  },
  {
   "cell_type": "code",
   "execution_count": 7,
   "metadata": {},
   "outputs": [
    {
     "data": {
      "image/png": "[encoded data removed]",
      "text/plain": [
       "<Figure size 1080x720 with 1 Axes>"
      ]
     },
     "metadata": {},
     "output_type": "display_data"
    }
   ],
   "source": [
    "tmp = train_df[['school_state', 'project_is_approved', 'id']].groupby(['school_state', 'project_is_approved'])['id'].count().reset_index().rename(index=str, columns={\"id\": 'num'})\n",
    "approved_num_by_school_state = tmp[tmp['project_is_approved'] == 1]\n",
    "non_approved_num_by_school_state = tmp[tmp['project_is_approved'] == 0]\n",
    "label = approved_num_by_school_state['school_state'].tolist()\n",
    "bar_width = 0.35\n",
    "index = np.arange(len(label))\n",
    "fig, ax = plt.subplots(figsize=(15, 10))\n",
    "ax.bar(index, approved_num_by_school_state['num'], bar_width,label = 'approved num')\n",
    "ax.bar(index + bar_width, non_approved_num_by_school_state['num'], bar_width, label = 'non approved num')\n",
    "ax.set_xticks(index + bar_width / 2)\n",
    "ax.set_xticklabels(label)\n",
    "ax.legend()\n",
    "plt.show()"
   ]
  },
  {
   "cell_type": "markdown",
   "metadata": {},
   "source": [
    "## 分析project_submitted_datetime列\n",
    "该列为项目提交的时间，从里面我们提取出项目提交的年份、月份、天等信息。"
   ]
  },
  {
   "cell_type": "code",
   "execution_count": 8,
   "metadata": {},
   "outputs": [],
   "source": [
    "train_df['project_submitted_datetime'] = train_df['project_submitted_datetime'].astype('datetime64')\n",
    "train_df['project_submitted_year'] = train_df['project_submitted_datetime'].dt.year\n",
    "train_df['project_submitted_month'] = train_df['project_submitted_datetime'].dt.month\n",
    "train_df['project_submitted_day'] = train_df['project_submitted_datetime'].dt.day"
   ]
  },
  {
   "cell_type": "code",
   "execution_count": 9,
   "metadata": {},
   "outputs": [
    {
     "data": {
      "image/png": "[encoded data removed]",
      "text/plain": [
       "<Figure size 1080x720 with 1 Axes>"
      ]
     },
     "metadata": {},
     "output_type": "display_data"
    }
   ],
   "source": [
    "tmp = train_df[['project_submitted_year', 'project_is_approved', 'id']].groupby(['project_submitted_year', 'project_is_approved'])['id'].count().reset_index().rename(index=str, columns={\"id\": 'num'})\n",
    "approved_num_by_school_state = tmp[tmp['project_is_approved'] == 1]\n",
    "non_approved_num_by_school_state = tmp[tmp['project_is_approved'] == 0]\n",
    "label = approved_num_by_school_state['project_submitted_year'].tolist()\n",
    "bar_width = 0.35\n",
    "index = np.arange(len(label))\n",
    "fig, ax = plt.subplots(figsize=(15, 10))\n",
    "ax.bar(index, approved_num_by_school_state['num'], bar_width,label = 'approved num')\n",
    "ax.bar(index + bar_width, non_approved_num_by_school_state['num'], bar_width, label = 'non approved num')\n",
    "ax.set_xticks(index + bar_width / 2)\n",
    "ax.set_xticklabels(label)\n",
    "ax.legend()\n",
    "plt.show()"
   ]
  },
  {
   "cell_type": "code",
   "execution_count": 10,
   "metadata": {},
   "outputs": [
    {
     "data": {
      "text/html": [
       "<div>\n",
       "<style scoped>\n",
       "    .dataframe tbody tr th:only-of-type {\n",
       "        vertical-align: middle;\n",
       "    }\n",
       "\n",
       "    .dataframe tbody tr th {\n",
       "        vertical-align: top;\n",
       "    }\n",
       "\n",
       "    .dataframe thead th {\n",
       "        text-align: right;\n",
       "    }\n",
       "</style>\n",
       "<table border=\"1\" class=\"dataframe\">\n",
       "  <thead>\n",
       "    <tr style=\"text-align: right;\">\n",
       "      <th></th>\n",
       "      <th>project_submitted_year</th>\n",
       "      <th>project_submitted_month</th>\n",
       "      <th>project_is_approved</th>\n",
       "      <th>num</th>\n",
       "    </tr>\n",
       "  </thead>\n",
       "  <tbody>\n",
       "    <tr>\n",
       "      <th>0</th>\n",
       "      <td>2016</td>\n",
       "      <td>4</td>\n",
       "      <td>0</td>\n",
       "      <td>165</td>\n",
       "    </tr>\n",
       "    <tr>\n",
       "      <th>1</th>\n",
       "      <td>2016</td>\n",
       "      <td>4</td>\n",
       "      <td>1</td>\n",
       "      <td>1248</td>\n",
       "    </tr>\n",
       "    <tr>\n",
       "      <th>2</th>\n",
       "      <td>2016</td>\n",
       "      <td>5</td>\n",
       "      <td>0</td>\n",
       "      <td>1288</td>\n",
       "    </tr>\n",
       "    <tr>\n",
       "      <th>3</th>\n",
       "      <td>2016</td>\n",
       "      <td>5</td>\n",
       "      <td>1</td>\n",
       "      <td>8339</td>\n",
       "    </tr>\n",
       "    <tr>\n",
       "      <th>4</th>\n",
       "      <td>2016</td>\n",
       "      <td>6</td>\n",
       "      <td>0</td>\n",
       "      <td>1279</td>\n",
       "    </tr>\n",
       "    <tr>\n",
       "      <th>5</th>\n",
       "      <td>2016</td>\n",
       "      <td>6</td>\n",
       "      <td>1</td>\n",
       "      <td>7772</td>\n",
       "    </tr>\n",
       "    <tr>\n",
       "      <th>6</th>\n",
       "      <td>2016</td>\n",
       "      <td>7</td>\n",
       "      <td>0</td>\n",
       "      <td>2244</td>\n",
       "    </tr>\n",
       "    <tr>\n",
       "      <th>7</th>\n",
       "      <td>2016</td>\n",
       "      <td>7</td>\n",
       "      <td>1</td>\n",
       "      <td>10815</td>\n",
       "    </tr>\n",
       "    <tr>\n",
       "      <th>8</th>\n",
       "      <td>2016</td>\n",
       "      <td>8</td>\n",
       "      <td>0</td>\n",
       "      <td>5258</td>\n",
       "    </tr>\n",
       "    <tr>\n",
       "      <th>9</th>\n",
       "      <td>2016</td>\n",
       "      <td>8</td>\n",
       "      <td>1</td>\n",
       "      <td>28120</td>\n",
       "    </tr>\n",
       "    <tr>\n",
       "      <th>10</th>\n",
       "      <td>2016</td>\n",
       "      <td>9</td>\n",
       "      <td>0</td>\n",
       "      <td>4452</td>\n",
       "    </tr>\n",
       "    <tr>\n",
       "      <th>11</th>\n",
       "      <td>2016</td>\n",
       "      <td>9</td>\n",
       "      <td>1</td>\n",
       "      <td>20619</td>\n",
       "    </tr>\n",
       "    <tr>\n",
       "      <th>12</th>\n",
       "      <td>2016</td>\n",
       "      <td>10</td>\n",
       "      <td>0</td>\n",
       "      <td>2184</td>\n",
       "    </tr>\n",
       "    <tr>\n",
       "      <th>13</th>\n",
       "      <td>2016</td>\n",
       "      <td>10</td>\n",
       "      <td>1</td>\n",
       "      <td>12029</td>\n",
       "    </tr>\n",
       "    <tr>\n",
       "      <th>14</th>\n",
       "      <td>2016</td>\n",
       "      <td>11</td>\n",
       "      <td>0</td>\n",
       "      <td>1989</td>\n",
       "    </tr>\n",
       "    <tr>\n",
       "      <th>15</th>\n",
       "      <td>2016</td>\n",
       "      <td>11</td>\n",
       "      <td>1</td>\n",
       "      <td>12660</td>\n",
       "    </tr>\n",
       "    <tr>\n",
       "      <th>16</th>\n",
       "      <td>2016</td>\n",
       "      <td>12</td>\n",
       "      <td>0</td>\n",
       "      <td>1507</td>\n",
       "    </tr>\n",
       "    <tr>\n",
       "      <th>17</th>\n",
       "      <td>2016</td>\n",
       "      <td>12</td>\n",
       "      <td>1</td>\n",
       "      <td>9505</td>\n",
       "    </tr>\n",
       "    <tr>\n",
       "      <th>18</th>\n",
       "      <td>2017</td>\n",
       "      <td>1</td>\n",
       "      <td>0</td>\n",
       "      <td>2241</td>\n",
       "    </tr>\n",
       "    <tr>\n",
       "      <th>19</th>\n",
       "      <td>2017</td>\n",
       "      <td>1</td>\n",
       "      <td>1</td>\n",
       "      <td>12887</td>\n",
       "    </tr>\n",
       "    <tr>\n",
       "      <th>20</th>\n",
       "      <td>2017</td>\n",
       "      <td>2</td>\n",
       "      <td>0</td>\n",
       "      <td>1668</td>\n",
       "    </tr>\n",
       "    <tr>\n",
       "      <th>21</th>\n",
       "      <td>2017</td>\n",
       "      <td>2</td>\n",
       "      <td>1</td>\n",
       "      <td>10381</td>\n",
       "    </tr>\n",
       "    <tr>\n",
       "      <th>22</th>\n",
       "      <td>2017</td>\n",
       "      <td>3</td>\n",
       "      <td>0</td>\n",
       "      <td>1968</td>\n",
       "    </tr>\n",
       "    <tr>\n",
       "      <th>23</th>\n",
       "      <td>2017</td>\n",
       "      <td>3</td>\n",
       "      <td>1</td>\n",
       "      <td>12112</td>\n",
       "    </tr>\n",
       "    <tr>\n",
       "      <th>24</th>\n",
       "      <td>2017</td>\n",
       "      <td>4</td>\n",
       "      <td>0</td>\n",
       "      <td>1491</td>\n",
       "    </tr>\n",
       "    <tr>\n",
       "      <th>25</th>\n",
       "      <td>2017</td>\n",
       "      <td>4</td>\n",
       "      <td>1</td>\n",
       "      <td>7859</td>\n",
       "    </tr>\n",
       "  </tbody>\n",
       "</table>\n",
       "</div>"
      ],
      "text/plain": [
       "    project_submitted_year  project_submitted_month  project_is_approved  \\\n",
       "0                     2016                        4                    0   \n",
       "1                     2016                        4                    1   \n",
       "2                     2016                        5                    0   \n",
       "3                     2016                        5                    1   \n",
       "4                     2016                        6                    0   \n",
       "5                     2016                        6                    1   \n",
       "6                     2016                        7                    0   \n",
       "7                     2016                        7                    1   \n",
       "8                     2016                        8                    0   \n",
       "9                     2016                        8                    1   \n",
       "10                    2016                        9                    0   \n",
       "11                    2016                        9                    1   \n",
       "12                    2016                       10                    0   \n",
       "13                    2016                       10                    1   \n",
       "14                    2016                       11                    0   \n",
       "15                    2016                       11                    1   \n",
       "16                    2016                       12                    0   \n",
       "17                    2016                       12                    1   \n",
       "18                    2017                        1                    0   \n",
       "19                    2017                        1                    1   \n",
       "20                    2017                        2                    0   \n",
       "21                    2017                        2                    1   \n",
       "22                    2017                        3                    0   \n",
       "23                    2017                        3                    1   \n",
       "24                    2017                        4                    0   \n",
       "25                    2017                        4                    1   \n",
       "\n",
       "      num  \n",
       "0     165  \n",
       "1    1248  \n",
       "2    1288  \n",
       "3    8339  \n",
       "4    1279  \n",
       "5    7772  \n",
       "6    2244  \n",
       "7   10815  \n",
       "8    5258  \n",
       "9   28120  \n",
       "10   4452  \n",
       "11  20619  \n",
       "12   2184  \n",
       "13  12029  \n",
       "14   1989  \n",
       "15  12660  \n",
       "16   1507  \n",
       "17   9505  \n",
       "18   2241  \n",
       "19  12887  \n",
       "20   1668  \n",
       "21  10381  \n",
       "22   1968  \n",
       "23  12112  \n",
       "24   1491  \n",
       "25   7859  "
      ]
     },
     "execution_count": 10,
     "metadata": {},
     "output_type": "execute_result"
    }
   ],
   "source": [
    "tmp = train_df[['project_submitted_year','project_submitted_month', 'project_is_approved', 'id']].groupby(['project_submitted_year','project_submitted_month', 'project_is_approved'])['id'].count().reset_index().rename(index=str, columns={\"id\": 'num'})\n",
    "tmp\n"
   ]
  },
  {
   "cell_type": "markdown",
   "metadata": {},
   "source": [
    "## 分析project_grade_category列\n",
    "该列为学校成绩水平，取值有'Grades PreK-2', 'Grades 3-5', 'Grades 6-8', 'Grades 9-12'"
   ]
  },
  {
   "cell_type": "code",
   "execution_count": 11,
   "metadata": {},
   "outputs": [
    {
     "data": {
      "text/plain": [
       "array(['Grades PreK-2', 'Grades 3-5', 'Grades 6-8', 'Grades 9-12'],\n",
       "      dtype=object)"
      ]
     },
     "execution_count": 11,
     "metadata": {},
     "output_type": "execute_result"
    }
   ],
   "source": [
    "train_df['project_grade_category'].unique()"
   ]
  },
  {
   "cell_type": "code",
   "execution_count": 12,
   "metadata": {},
   "outputs": [
    {
     "data": {
      "image/png": "[encoded data removed]",
      "text/plain": [
       "<Figure size 1080x720 with 1 Axes>"
      ]
     },
     "metadata": {},
     "output_type": "display_data"
    }
   ],
   "source": [
    "tmp = train_df[['project_grade_category','project_is_approved', 'id']].groupby(['project_grade_category', 'project_is_approved'])['id'].count().reset_index().rename(index=str, columns={\"id\": 'num'})\n",
    "approved_num_by_school_state = tmp[tmp['project_is_approved'] == 1]\n",
    "non_approved_num_by_school_state = tmp[tmp['project_is_approved'] == 0]\n",
    "label = approved_num_by_school_state['project_grade_category'].tolist()\n",
    "bar_width = 0.35\n",
    "index = np.arange(len(label))\n",
    "fig, ax = plt.subplots(figsize=(15, 10))\n",
    "ax.bar(index, approved_num_by_school_state['num'], bar_width,label = 'approved num')\n",
    "ax.bar(index + bar_width, non_approved_num_by_school_state['num'], bar_width, label = 'non approved num')\n",
    "ax.set_xticks(index + bar_width / 2)\n",
    "ax.set_xticklabels(label)\n",
    "ax.legend()\n",
    "plt.show()"
   ]
  },
  {
   "cell_type": "markdown",
   "metadata": {},
   "source": [
    "## 分析project_subject_categories列\n",
    "该列为项目类别列，唯一值数量为51，"
   ]
  },
  {
   "cell_type": "code",
   "execution_count": 22,
   "metadata": {},
   "outputs": [],
   "source": [
    "tmp = train_df['project_subject_categories'].str.split(\",\").tolist()"
   ]
  },
  {
   "cell_type": "code",
   "execution_count": 25,
   "metadata": {},
   "outputs": [
    {
     "name": "stdout",
     "output_type": "stream",
     "text": [
      "{'Literacy & Language': {'disapproveNum': 82482, 'approveNum': 4506}, 'History & Civics': {'disapproveNum': 9211, 'approveNum': 515}, 'Health & Sports': {'disapproveNum': 21894, 'approveNum': 1818}, 'Care & Hunger': {'disapproveNum': 2275, 'approveNum': 52}, 'Music & The Arts': {'disapproveNum': 16215, 'approveNum': 839}, 'Warmth': {'disapproveNum': 2275, 'approveNum': 52}, 'Math & Science': {'approveNum': 4091, 'disapproveNum': 65157}, 'Applied Learning': {'disapproveNum': 19336, 'approveNum': 967}, 'Special Needs': {'disapproveNum': 21761, 'approveNum': 1120}}\n"
     ]
    }
   ],
   "source": [
    "approve_num_by_category = {}\n",
    "for i in range(len(tmp)):\n",
    "    for sub_category in tmp[i]:\n",
    "        sub_category = sub_category.strip()\n",
    "        if sub_category not in approve_num_by_category.keys():\n",
    "            approve_num_by_category[sub_category] = {}\n",
    "        if train_df.iloc[i, -1] == 1:\n",
    "            approve_num_by_category[sub_category]['approveNum'] = approve_num_by_category[sub_category].get('approveNum', 0) + 1\n",
    "        else:\n",
    "            approve_num_by_category[sub_category]['disapproveNum'] = approve_num_by_category[sub_category].get('disapproveNum', 0) + 1\n",
    "print (approve_num_by_category)"
   ]
  },
  {
   "cell_type": "code",
   "execution_count": 28,
   "metadata": {},
   "outputs": [
    {
     "data": {
      "image/png": "[encoded data removed]",
      "text/plain": [
       "<Figure size 1080x720 with 1 Axes>"
      ]
     },
     "metadata": {},
     "output_type": "display_data"
    }
   ],
   "source": [
    "label = approve_num_by_category.keys()\n",
    "approve_num_list= [approve_num_by_category[i]['approveNum'] for i in approve_num_by_category.keys()]\n",
    "disapprove_num_list= [approve_num_by_category[i]['disapproveNum'] for i in approve_num_by_category.keys()]\n",
    "bar_width = 0.35\n",
    "index = np.arange(len(label))\n",
    "fig, ax = plt.subplots(figsize=(15, 10))\n",
    "ax.bar(index, approve_num_list, bar_width,label = 'approved num')\n",
    "ax.bar(index + bar_width, disapprove_num_list, bar_width, label = 'non approved num')\n",
    "ax.set_xticks(index + bar_width / 2)\n",
    "ax.set_xticklabels(label)\n",
    "ax.legend()\n",
    "plt.show()"
   ]
  },
  {
   "cell_type": "code",
   "execution_count": 21,
   "metadata": {},
   "outputs": [
    {
     "data": {
      "text/plain": [
       "Index(['id', 'teacher_id', 'teacher_prefix', 'school_state',\n",
       "       'project_submitted_datetime', 'project_grade_category',\n",
       "       'project_subject_categories', 'project_subject_subcategories',\n",
       "       'project_title', 'project_essay_1', 'project_essay_2',\n",
       "       'project_essay_3', 'project_essay_4', 'project_resource_summary',\n",
       "       'teacher_number_of_previously_posted_projects', 'project_is_approved',\n",
       "       'project_submitted_year', 'project_submitted_month',\n",
       "       'project_submitted_day'],\n",
       "      dtype='object')"
      ]
     },
     "execution_count": 21,
     "metadata": {},
     "output_type": "execute_result"
    }
   ],
   "source": [
    "train_df.columns"
   ]
  },
  {
   "cell_type": "code",
   "execution_count": 50,
   "metadata": {},
   "outputs": [
    {
     "data": {
      "text/plain": [
       "3"
      ]
     },
     "execution_count": 50,
     "metadata": {},
     "output_type": "execute_result"
    }
   ],
   "source": [
    "tmp = train_df['project_subject_categories'].apply(lambda x: len(x.split(\",\")))\n",
    "tmp.max()"
   ]
  },
  {
   "cell_type": "markdown",
   "metadata": {},
   "source": [
    "## 分析project_subject_subcategories列\n",
    "该列为项目的子类别，唯一值数量有500个，一个项目的字类别可能包含多个类别，从下面的统计可以发现，一个项目最大的子类别数为3"
   ]
  },
  {
   "cell_type": "code",
   "execution_count": 47,
   "metadata": {},
   "outputs": [
    {
     "data": {
      "text/plain": [
       "array(['Literacy', 'Performing Arts, Team Sports',\n",
       "       'Applied Sciences, Literature & Writing', 'Health & Wellness',\n",
       "       'Character Education, Literature & Writing',\n",
       "       'Early Development, Literature & Writing', 'Mathematics',\n",
       "       'Literature & Writing, Mathematics', 'Literacy, Mathematics',\n",
       "       'Character Education, Literacy', 'Literature & Writing',\n",
       "       'Special Needs', 'ESL, Mathematics',\n",
       "       'Health & Life Science, Mathematics',\n",
       "       'College & Career Prep, Literature & Writing',\n",
       "       'Early Development, Special Needs', 'Applied Sciences',\n",
       "       'Early Development, Performing Arts', 'Mathematics, Special Needs',\n",
       "       'Environmental Science, Literature & Writing',\n",
       "       'Health & Wellness, Special Needs', 'Other, Special Needs',\n",
       "       'Literacy, Social Sciences',\n",
       "       'Health & Wellness, Literature & Writing', 'Music',\n",
       "       'Literacy, Special Needs', 'Applied Sciences, Mathematics',\n",
       "       'ESL, Literacy', 'Applied Sciences, Special Needs',\n",
       "       'Environmental Science, Literacy', 'Visual Arts',\n",
       "       'Special Needs, Visual Arts', 'Literacy, Literature & Writing',\n",
       "       'Literature & Writing, Social Sciences',\n",
       "       'Literature & Writing, Special Needs',\n",
       "       'History & Geography, Social Sciences', 'Applied Sciences, ESL',\n",
       "       'Early Development, Literacy', 'ESL, Literature & Writing',\n",
       "       'Environmental Science', 'Health & Wellness, Parent Involvement',\n",
       "       'Early Development, Extracurricular', 'Gym & Fitness, Team Sports',\n",
       "       'Applied Sciences, Environmental Science',\n",
       "       'Applied Sciences, Early Development',\n",
       "       'Character Education, Special Needs', 'Literacy, Music',\n",
       "       'Health & Wellness, Team Sports', 'Gym & Fitness',\n",
       "       'Environmental Science, Visual Arts',\n",
       "       'Applied Sciences, Extracurricular',\n",
       "       'Environmental Science, Mathematics',\n",
       "       'Health & Wellness, Literacy', 'Mathematics, Visual Arts',\n",
       "       'College & Career Prep, Visual Arts',\n",
       "       'Applied Sciences, College & Career Prep',\n",
       "       'History & Geography, Special Needs',\n",
       "       'History & Geography, Literature & Writing',\n",
       "       'College & Career Prep, Literacy', 'Applied Sciences, Literacy',\n",
       "       'Warmth, Care & Hunger', 'Health & Life Science',\n",
       "       'Music, Visual Arts', 'Gym & Fitness, Health & Wellness',\n",
       "       'Applied Sciences, Health & Life Science', 'Extracurricular',\n",
       "       'Environmental Science, Health & Life Science',\n",
       "       'Early Development', 'Team Sports',\n",
       "       'Environmental Science, History & Geography',\n",
       "       'Environmental Science, Special Needs', 'Music, Performing Arts',\n",
       "       'College & Career Prep, Mathematics', 'History & Geography',\n",
       "       'Literacy, Visual Arts', 'Health & Wellness, Other',\n",
       "       'Other, Visual Arts', 'History & Geography, Literacy',\n",
       "       'Environmental Science, Social Sciences',\n",
       "       'Applied Sciences, Visual Arts', 'Social Sciences',\n",
       "       'Early Development, Visual Arts', 'Other',\n",
       "       'Health & Life Science, Health & Wellness',\n",
       "       'College & Career Prep, Other',\n",
       "       'Early Development, Health & Wellness',\n",
       "       'Applied Sciences, Social Sciences', 'Foreign Languages, Literacy',\n",
       "       'Parent Involvement', 'Mathematics, Parent Involvement',\n",
       "       'ESL, Special Needs', 'Literature & Writing, Visual Arts',\n",
       "       'Nutrition Education', 'Health & Wellness, Nutrition Education',\n",
       "       'Parent Involvement, Special Needs', 'Community Service',\n",
       "       'College & Career Prep', 'ESL', 'Music, Special Needs',\n",
       "       'Health & Life Science, Literacy',\n",
       "       'Community Service, Environmental Science',\n",
       "       'Financial Literacy, Mathematics', 'Literacy, Other',\n",
       "       'College & Career Prep, Parent Involvement', 'Character Education',\n",
       "       'Civics & Government, Social Sciences', 'Early Development, Other',\n",
       "       'Gym & Fitness, Literacy', 'Applied Sciences, Other',\n",
       "       'Civics & Government, History & Geography',\n",
       "       'Health & Life Science, Visual Arts',\n",
       "       'College & Career Prep, Special Needs', 'Foreign Languages',\n",
       "       'Gym & Fitness, Nutrition Education',\n",
       "       'Character Education, Visual Arts', 'Economics',\n",
       "       'Character Education, Extracurricular',\n",
       "       'Health & Life Science, Literature & Writing',\n",
       "       'Extracurricular, Special Needs',\n",
       "       'Applied Sciences, History & Geography', 'Economics, Visual Arts',\n",
       "       'Civics & Government, Literature & Writing',\n",
       "       'ESL, Social Sciences', 'Health & Life Science, Special Needs',\n",
       "       'Applied Sciences, Community Service',\n",
       "       'Character Education, Early Development',\n",
       "       'Foreign Languages, Mathematics',\n",
       "       'History & Geography, Mathematics',\n",
       "       'History & Geography, Visual Arts',\n",
       "       'Community Service, Special Needs',\n",
       "       'Extracurricular, Literature & Writing',\n",
       "       'Early Development, Foreign Languages',\n",
       "       'Environmental Science, Nutrition Education',\n",
       "       'Early Development, Mathematics',\n",
       "       'Early Development, Warmth, Care & Hunger', 'Performing Arts',\n",
       "       'Extracurricular, Visual Arts',\n",
       "       'Foreign Languages, Literature & Writing',\n",
       "       'Financial Literacy, Music', 'ESL, Health & Life Science',\n",
       "       'Health & Wellness, History & Geography',\n",
       "       'Applied Sciences, Health & Wellness',\n",
       "       'Health & Wellness, Mathematics',\n",
       "       'Health & Life Science, Nutrition Education',\n",
       "       'College & Career Prep, Health & Life Science',\n",
       "       'Parent Involvement, Visual Arts',\n",
       "       'College & Career Prep, History & Geography',\n",
       "       'History & Geography, Performing Arts',\n",
       "       'Applied Sciences, Parent Involvement',\n",
       "       'Applied Sciences, Performing Arts',\n",
       "       'Social Sciences, Special Needs',\n",
       "       'Gym & Fitness, Health & Life Science',\n",
       "       'Community Service, Parent Involvement', 'ESL, Visual Arts',\n",
       "       'College & Career Prep, Extracurricular',\n",
       "       'Extracurricular, Performing Arts', 'Gym & Fitness, Special Needs',\n",
       "       'Applied Sciences, Music', 'Mathematics, Other',\n",
       "       'Mathematics, Nutrition Education', 'Music, Team Sports',\n",
       "       'Character Education, Other', 'Mathematics, Social Sciences',\n",
       "       'Civics & Government, Special Needs',\n",
       "       'Community Service, Performing Arts', 'Literacy, Team Sports',\n",
       "       'Music, Parent Involvement',\n",
       "       'Health & Life Science, History & Geography',\n",
       "       'College & Career Prep, Social Sciences', 'Mathematics, Music',\n",
       "       'Character Education, College & Career Prep',\n",
       "       'Social Sciences, Visual Arts',\n",
       "       'Community Service, Extracurricular', 'College & Career Prep, ESL',\n",
       "       'Other, Performing Arts', 'ESL, Early Development',\n",
       "       'Mathematics, Performing Arts', 'Financial Literacy',\n",
       "       'Economics, History & Geography', 'Music, Other',\n",
       "       'Civics & Government, Economics',\n",
       "       'Environmental Science, Health & Wellness',\n",
       "       'Literacy, Parent Involvement',\n",
       "       'College & Career Prep, Health & Wellness',\n",
       "       'Literature & Writing, Performing Arts',\n",
       "       'Health & Life Science, Social Sciences',\n",
       "       'Nutrition Education, Team Sports',\n",
       "       'Character Education, Health & Wellness', 'ESL, Health & Wellness',\n",
       "       'Character Education, Community Service',\n",
       "       'Health & Wellness, Warmth, Care & Hunger',\n",
       "       'Extracurricular, Other',\n",
       "       'Early Development, Environmental Science',\n",
       "       'Environmental Science, Extracurricular',\n",
       "       'Applied Sciences, Character Education',\n",
       "       'Community Service, Literacy',\n",
       "       'Community Service, Early Development',\n",
       "       'Financial Literacy, Special Needs', 'Civics & Government',\n",
       "       'Other, Parent Involvement', 'Performing Arts, Visual Arts',\n",
       "       'Character Education, Social Sciences',\n",
       "       'Environmental Science, Warmth, Care & Hunger',\n",
       "       'College & Career Prep, Community Service',\n",
       "       'Literacy, Performing Arts',\n",
       "       'College & Career Prep, Early Development',\n",
       "       'Early Development, Parent Involvement',\n",
       "       'ESL, Environmental Science', 'Economics, Financial Literacy',\n",
       "       'ESL, History & Geography', 'Civics & Government, Literacy',\n",
       "       'Civics & Government, Financial Literacy',\n",
       "       'Character Education, Music',\n",
       "       'Parent Involvement, Performing Arts', 'ESL, Foreign Languages',\n",
       "       'Early Development, Gym & Fitness',\n",
       "       'Character Education, Economics', 'Extracurricular, Mathematics',\n",
       "       'College & Career Prep, Foreign Languages',\n",
       "       'Foreign Languages, History & Geography',\n",
       "       'Character Education, Mathematics',\n",
       "       'College & Career Prep, Performing Arts',\n",
       "       'Applied Sciences, Gym & Fitness', 'Character Education, ESL',\n",
       "       'Character Education, Team Sports', 'Health & Life Science, Music',\n",
       "       'Special Needs, Warmth, Care & Hunger',\n",
       "       'Gym & Fitness, Mathematics', 'Health & Wellness, Visual Arts',\n",
       "       'Character Education, Environmental Science',\n",
       "       'Health & Wellness, Music',\n",
       "       'Community Service, Literature & Writing', 'Economics, Literacy',\n",
       "       'Character Education, Parent Involvement',\n",
       "       'Mathematics, Team Sports',\n",
       "       'Character Education, Financial Literacy',\n",
       "       'Economics, Mathematics', 'Literature & Writing, Other',\n",
       "       'Early Development, History & Geography',\n",
       "       'Community Service, History & Geography',\n",
       "       'Health & Wellness, Performing Arts', 'Economics, Social Sciences',\n",
       "       'Nutrition Education, Special Needs',\n",
       "       'Health & Life Science, Other',\n",
       "       'Applied Sciences, Nutrition Education',\n",
       "       'Character Education, Civics & Government',\n",
       "       'Foreign Languages, Visual Arts', 'Extracurricular, Gym & Fitness',\n",
       "       'Civics & Government, Health & Life Science',\n",
       "       'History & Geography, Parent Involvement',\n",
       "       'Financial Literacy, Other', 'College & Career Prep, Music',\n",
       "       'History & Geography, Music',\n",
       "       'Civics & Government, Community Service',\n",
       "       'Character Education, Foreign Languages',\n",
       "       'Literature & Writing, Parent Involvement',\n",
       "       'College & Career Prep, Nutrition Education',\n",
       "       'Special Needs, Team Sports', 'Extracurricular, Team Sports',\n",
       "       'Early Development, Music', 'Civics & Government, Team Sports',\n",
       "       'Financial Literacy, Literacy', 'Community Service, Visual Arts',\n",
       "       'Literature & Writing, Nutrition Education', 'ESL, Music',\n",
       "       'Community Service, Music',\n",
       "       'Financial Literacy, Literature & Writing',\n",
       "       'Civics & Government, Environmental Science',\n",
       "       'Literature & Writing, Warmth, Care & Hunger',\n",
       "       'Foreign Languages, Gym & Fitness', 'ESL, Extracurricular',\n",
       "       'Visual Arts, Warmth, Care & Hunger',\n",
       "       'Civics & Government, Performing Arts',\n",
       "       'Literature & Writing, Music',\n",
       "       'Community Service, Health & Life Science',\n",
       "       'Performing Arts, Special Needs', 'ESL, Parent Involvement',\n",
       "       'ESL, Performing Arts', 'Gym & Fitness, Visual Arts',\n",
       "       'Early Development, Health & Life Science',\n",
       "       'Foreign Languages, Special Needs',\n",
       "       'Applied Sciences, Civics & Government',\n",
       "       'Gym & Fitness, Literature & Writing', 'Gym & Fitness, Other',\n",
       "       'Health & Life Science, Performing Arts',\n",
       "       'Environmental Science, Gym & Fitness',\n",
       "       'Community Service, Mathematics',\n",
       "       'Financial Literacy, History & Geography',\n",
       "       'Extracurricular, Literacy', 'Gym & Fitness, Performing Arts',\n",
       "       'Applied Sciences, Financial Literacy',\n",
       "       'Environmental Science, Parent Involvement',\n",
       "       'Social Sciences, Team Sports', 'Gym & Fitness, Music',\n",
       "       'ESL, Other', 'Community Service, Social Sciences',\n",
       "       'Literature & Writing, Team Sports',\n",
       "       'Community Service, Health & Wellness', 'Community Service, Other',\n",
       "       'College & Career Prep, Financial Literacy',\n",
       "       'Early Development, Nutrition Education',\n",
       "       'Foreign Languages, Music', 'History & Geography, Other',\n",
       "       'Early Development, Social Sciences',\n",
       "       'Foreign Languages, Health & Wellness', 'ESL, Nutrition Education',\n",
       "       'Music, Social Sciences', 'Gym & Fitness, Parent Involvement',\n",
       "       'Applied Sciences, Team Sports',\n",
       "       'Environmental Science, Performing Arts',\n",
       "       'Civics & Government, Health & Wellness', 'Other, Team Sports',\n",
       "       'Civics & Government, Foreign Languages',\n",
       "       'Environmental Science, Other',\n",
       "       'College & Career Prep, Environmental Science',\n",
       "       'Health & Wellness, Social Sciences',\n",
       "       'Applied Sciences, Warmth, Care & Hunger',\n",
       "       'Extracurricular, Health & Wellness',\n",
       "       'Foreign Languages, Parent Involvement',\n",
       "       'College & Career Prep, Economics',\n",
       "       'Nutrition Education, Warmth, Care & Hunger',\n",
       "       'Financial Literacy, Visual Arts',\n",
       "       'Environmental Science, Foreign Languages',\n",
       "       'Mathematics, Warmth, Care & Hunger',\n",
       "       'Performing Arts, Social Sciences',\n",
       "       'Foreign Languages, Performing Arts',\n",
       "       'Character Education, Health & Life Science',\n",
       "       'Extracurricular, Music', 'Extracurricular, Financial Literacy',\n",
       "       'Civics & Government, Mathematics',\n",
       "       'Literacy, Warmth, Care & Hunger',\n",
       "       'College & Career Prep, Team Sports',\n",
       "       'Extracurricular, Social Sciences',\n",
       "       'Character Education, Gym & Fitness',\n",
       "       'Civics & Government, College & Career Prep',\n",
       "       'Environmental Science, Financial Literacy',\n",
       "       'Character Education, History & Geography',\n",
       "       'Civics & Government, ESL', 'Extracurricular, Parent Involvement',\n",
       "       'Civics & Government, Parent Involvement',\n",
       "       'Literacy, Nutrition Education', 'Nutrition Education, Other',\n",
       "       'Extracurricular, History & Geography',\n",
       "       'Parent Involvement, Social Sciences', 'Team Sports, Visual Arts',\n",
       "       'Environmental Science, Team Sports',\n",
       "       'Community Service, Nutrition Education',\n",
       "       'Applied Sciences, Foreign Languages',\n",
       "       'Foreign Languages, Social Sciences',\n",
       "       'Other, Warmth, Care & Hunger', 'Civics & Government, Visual Arts',\n",
       "       'Nutrition Education, Visual Arts', 'Community Service, Economics',\n",
       "       'Nutrition Education, Social Sciences',\n",
       "       'Character Education, Performing Arts',\n",
       "       'Environmental Science, Music',\n",
       "       'Health & Life Science, Team Sports',\n",
       "       'Civics & Government, Extracurricular',\n",
       "       'Health & Life Science, Parent Involvement',\n",
       "       'ESL, Financial Literacy', 'Economics, Special Needs',\n",
       "       'Financial Literacy, Social Sciences',\n",
       "       'Character Education, Warmth, Care & Hunger',\n",
       "       'Economics, Nutrition Education',\n",
       "       'Economics, Health & Life Science',\n",
       "       'History & Geography, Team Sports', 'Foreign Languages, Other',\n",
       "       'Gym & Fitness, History & Geography', 'ESL, Team Sports',\n",
       "       'Extracurricular, Foreign Languages',\n",
       "       'Early Development, Financial Literacy',\n",
       "       'Early Development, Team Sports',\n",
       "       'Economics, Environmental Science', 'ESL, Gym & Fitness',\n",
       "       'Extracurricular, Nutrition Education',\n",
       "       'Nutrition Education, Parent Involvement',\n",
       "       'Extracurricular, Health & Life Science',\n",
       "       'Economics, Literature & Writing', 'Early Development, Economics',\n",
       "       'Extracurricular, Warmth, Care & Hunger', 'Other, Social Sciences',\n",
       "       'Financial Literacy, Health & Life Science',\n",
       "       'Gym & Fitness, Social Sciences',\n",
       "       'Health & Life Science, Warmth, Care & Hunger',\n",
       "       'College & Career Prep, Warmth, Care & Hunger', 'Economics, Music',\n",
       "       'Parent Involvement, Warmth, Care & Hunger',\n",
       "       'Applied Sciences, Economics',\n",
       "       'Foreign Languages, Health & Life Science',\n",
       "       'Gym & Fitness, Warmth, Care & Hunger',\n",
       "       'Community Service, Gym & Fitness', 'Economics, Other',\n",
       "       'Financial Literacy, Foreign Languages', 'Community Service, ESL',\n",
       "       'Financial Literacy, Performing Arts',\n",
       "       'Civics & Government, Nutrition Education',\n",
       "       'College & Career Prep, Gym & Fitness',\n",
       "       'Financial Literacy, Parent Involvement',\n",
       "       'Character Education, Nutrition Education',\n",
       "       'Community Service, Financial Literacy',\n",
       "       'Financial Literacy, Health & Wellness',\n",
       "       'Music, Nutrition Education', 'Economics, Extracurricular',\n",
       "       'ESL, Economics', 'Economics, Foreign Languages',\n",
       "       'Parent Involvement, Team Sports',\n",
       "       'History & Geography, Warmth, Care & Hunger'], dtype=object)"
      ]
     },
     "execution_count": 47,
     "metadata": {},
     "output_type": "execute_result"
    }
   ],
   "source": [
    "train_df['project_subject_subcategories'].unique()"
   ]
  },
  {
   "cell_type": "code",
   "execution_count": 49,
   "metadata": {},
   "outputs": [
    {
     "data": {
      "text/plain": [
       "3"
      ]
     },
     "execution_count": 49,
     "metadata": {},
     "output_type": "execute_result"
    }
   ],
   "source": [
    "tmp = train_df['project_subject_subcategories'].apply(lambda x: len(x.split(\",\")))\n",
    "tmp.max()"
   ]
  },
  {
   "cell_type": "markdown",
   "metadata": {},
   "source": [
    "## 分析project_title列\n",
    "改列为项目的标题列，想法是利用nltk处理该列，先分析出高频词汇，建立高频词汇来处理"
   ]
  },
  {
   "cell_type": "code",
   "execution_count": 52,
   "metadata": {},
   "outputs": [],
   "source": [
    "from sklearn.feature_extraction.text import CountVectorizer\n",
    "vectorizer = CountVectorizer()\n",
    "vectorizer.fit_transform(train_df['project_title'])\n",
    "analyze = vectorizer.build_analyzer()"
   ]
  },
  {
   "cell_type": "code",
   "execution_count": 59,
   "metadata": {},
   "outputs": [
    {
     "ename": "TypeError",
     "evalue": "no supported conversion for types: (dtype('O'),)",
     "traceback": [
      "\u001b[1;31m---------------------------------------------------------------------------\u001b[0m",
      "\u001b[1;31mTypeError\u001b[0m                                 Traceback (most recent call last)",
      "\u001b[1;32m<ipython-input-59-aebf3394e8f8>\u001b[0m in \u001b[0;36m<module>\u001b[1;34m()\u001b[0m\n\u001b[0;32m      1\u001b[0m \u001b[1;32mfrom\u001b[0m \u001b[0msklearn\u001b[0m\u001b[1;33m.\u001b[0m\u001b[0mfeature_extraction\u001b[0m\u001b[1;33m.\u001b[0m\u001b[0mtext\u001b[0m \u001b[1;32mimport\u001b[0m \u001b[0mTfidfTransformer\u001b[0m\u001b[1;33m\u001b[0m\u001b[0m\n\u001b[0;32m      2\u001b[0m \u001b[0mtransformer\u001b[0m \u001b[1;33m=\u001b[0m \u001b[0mTfidfTransformer\u001b[0m\u001b[1;33m(\u001b[0m\u001b[0msmooth_idf\u001b[0m\u001b[1;33m=\u001b[0m\u001b[1;32mFalse\u001b[0m\u001b[1;33m)\u001b[0m\u001b[1;33m\u001b[0m\u001b[0m\n\u001b[1;32m----> 3\u001b[1;33m \u001b[0mtfidf\u001b[0m \u001b[1;33m=\u001b[0m \u001b[0mtransformer\u001b[0m\u001b[1;33m.\u001b[0m\u001b[0mfit_transform\u001b[0m\u001b[1;33m(\u001b[0m\u001b[0mtrain_df\u001b[0m\u001b[1;33m[\u001b[0m\u001b[1;34m'project_title'\u001b[0m\u001b[1;33m]\u001b[0m\u001b[1;33m)\u001b[0m\u001b[1;33m\u001b[0m\u001b[0m\n\u001b[0m",
      "\u001b[1;32mc:\\python\\python35\\lib\\site-packages\\sklearn\\base.py\u001b[0m in \u001b[0;36mfit_transform\u001b[1;34m(self, X, y, **fit_params)\u001b[0m\n\u001b[0;32m    515\u001b[0m         \u001b[1;32mif\u001b[0m \u001b[0my\u001b[0m \u001b[1;32mis\u001b[0m \u001b[1;32mNone\u001b[0m\u001b[1;33m:\u001b[0m\u001b[1;33m\u001b[0m\u001b[0m\n\u001b[0;32m    516\u001b[0m             \u001b[1;31m# fit method of arity 1 (unsupervised transformation)\u001b[0m\u001b[1;33m\u001b[0m\u001b[1;33m\u001b[0m\u001b[0m\n\u001b[1;32m--> 517\u001b[1;33m             \u001b[1;32mreturn\u001b[0m \u001b[0mself\u001b[0m\u001b[1;33m.\u001b[0m\u001b[0mfit\u001b[0m\u001b[1;33m(\u001b[0m\u001b[0mX\u001b[0m\u001b[1;33m,\u001b[0m \u001b[1;33m**\u001b[0m\u001b[0mfit_params\u001b[0m\u001b[1;33m)\u001b[0m\u001b[1;33m.\u001b[0m\u001b[0mtransform\u001b[0m\u001b[1;33m(\u001b[0m\u001b[0mX\u001b[0m\u001b[1;33m)\u001b[0m\u001b[1;33m\u001b[0m\u001b[0m\n\u001b[0m\u001b[0;32m    518\u001b[0m         \u001b[1;32melse\u001b[0m\u001b[1;33m:\u001b[0m\u001b[1;33m\u001b[0m\u001b[0m\n\u001b[0;32m    519\u001b[0m             \u001b[1;31m# fit method of arity 2 (supervised transformation)\u001b[0m\u001b[1;33m\u001b[0m\u001b[1;33m\u001b[0m\u001b[0m\n",
      "\u001b[1;32mc:\\python\\python35\\lib\\site-packages\\sklearn\\feature_extraction\\text.py\u001b[0m in \u001b[0;36mfit\u001b[1;34m(self, X, y)\u001b[0m\n\u001b[0;32m   1054\u001b[0m         \"\"\"\n\u001b[0;32m   1055\u001b[0m         \u001b[1;32mif\u001b[0m \u001b[1;32mnot\u001b[0m \u001b[0msp\u001b[0m\u001b[1;33m.\u001b[0m\u001b[0missparse\u001b[0m\u001b[1;33m(\u001b[0m\u001b[0mX\u001b[0m\u001b[1;33m)\u001b[0m\u001b[1;33m:\u001b[0m\u001b[1;33m\u001b[0m\u001b[0m\n\u001b[1;32m-> 1056\u001b[1;33m             \u001b[0mX\u001b[0m \u001b[1;33m=\u001b[0m \u001b[0msp\u001b[0m\u001b[1;33m.\u001b[0m\u001b[0mcsc_matrix\u001b[0m\u001b[1;33m(\u001b[0m\u001b[0mX\u001b[0m\u001b[1;33m)\u001b[0m\u001b[1;33m\u001b[0m\u001b[0m\n\u001b[0m\u001b[0;32m   1057\u001b[0m         \u001b[1;32mif\u001b[0m \u001b[0mself\u001b[0m\u001b[1;33m.\u001b[0m\u001b[0muse_idf\u001b[0m\u001b[1;33m:\u001b[0m\u001b[1;33m\u001b[0m\u001b[0m\n\u001b[0;32m   1058\u001b[0m             \u001b[0mn_samples\u001b[0m\u001b[1;33m,\u001b[0m \u001b[0mn_features\u001b[0m \u001b[1;33m=\u001b[0m \u001b[0mX\u001b[0m\u001b[1;33m.\u001b[0m\u001b[0mshape\u001b[0m\u001b[1;33m\u001b[0m\u001b[0m\n",
      "\u001b[1;32mc:\\python\\python35\\lib\\site-packages\\scipy\\sparse\\compressed.py\u001b[0m in \u001b[0;36m__init__\u001b[1;34m(self, arg1, shape, dtype, copy)\u001b[0m\n\u001b[0;32m     77\u001b[0m                         self.format)\n\u001b[0;32m     78\u001b[0m             \u001b[1;32mfrom\u001b[0m \u001b[1;33m.\u001b[0m\u001b[0mcoo\u001b[0m \u001b[1;32mimport\u001b[0m \u001b[0mcoo_matrix\u001b[0m\u001b[1;33m\u001b[0m\u001b[0m\n\u001b[1;32m---> 79\u001b[1;33m             \u001b[0mself\u001b[0m\u001b[1;33m.\u001b[0m\u001b[0m_set_self\u001b[0m\u001b[1;33m(\u001b[0m\u001b[0mself\u001b[0m\u001b[1;33m.\u001b[0m\u001b[0m__class__\u001b[0m\u001b[1;33m(\u001b[0m\u001b[0mcoo_matrix\u001b[0m\u001b[1;33m(\u001b[0m\u001b[0marg1\u001b[0m\u001b[1;33m,\u001b[0m \u001b[0mdtype\u001b[0m\u001b[1;33m=\u001b[0m\u001b[0mdtype\u001b[0m\u001b[1;33m)\u001b[0m\u001b[1;33m)\u001b[0m\u001b[1;33m)\u001b[0m\u001b[1;33m\u001b[0m\u001b[0m\n\u001b[0m\u001b[0;32m     80\u001b[0m \u001b[1;33m\u001b[0m\u001b[0m\n\u001b[0;32m     81\u001b[0m         \u001b[1;31m# Read matrix dimensions given, if any\u001b[0m\u001b[1;33m\u001b[0m\u001b[1;33m\u001b[0m\u001b[0m\n",
      "\u001b[1;32mc:\\python\\python35\\lib\\site-packages\\scipy\\sparse\\compressed.py\u001b[0m in \u001b[0;36m__init__\u001b[1;34m(self, arg1, shape, dtype, copy)\u001b[0m\n\u001b[0;32m     30\u001b[0m                 \u001b[0marg1\u001b[0m \u001b[1;33m=\u001b[0m \u001b[0marg1\u001b[0m\u001b[1;33m.\u001b[0m\u001b[0mcopy\u001b[0m\u001b[1;33m(\u001b[0m\u001b[1;33m)\u001b[0m\u001b[1;33m\u001b[0m\u001b[0m\n\u001b[0;32m     31\u001b[0m             \u001b[1;32melse\u001b[0m\u001b[1;33m:\u001b[0m\u001b[1;33m\u001b[0m\u001b[0m\n\u001b[1;32m---> 32\u001b[1;33m                 \u001b[0marg1\u001b[0m \u001b[1;33m=\u001b[0m \u001b[0marg1\u001b[0m\u001b[1;33m.\u001b[0m\u001b[0masformat\u001b[0m\u001b[1;33m(\u001b[0m\u001b[0mself\u001b[0m\u001b[1;33m.\u001b[0m\u001b[0mformat\u001b[0m\u001b[1;33m)\u001b[0m\u001b[1;33m\u001b[0m\u001b[0m\n\u001b[0m\u001b[0;32m     33\u001b[0m             \u001b[0mself\u001b[0m\u001b[1;33m.\u001b[0m\u001b[0m_set_self\u001b[0m\u001b[1;33m(\u001b[0m\u001b[0marg1\u001b[0m\u001b[1;33m)\u001b[0m\u001b[1;33m\u001b[0m\u001b[0m\n\u001b[0;32m     34\u001b[0m \u001b[1;33m\u001b[0m\u001b[0m\n",
      "\u001b[1;32mc:\\python\\python35\\lib\\site-packages\\scipy\\sparse\\base.py\u001b[0m in \u001b[0;36masformat\u001b[1;34m(self, format, copy)\u001b[0m\n\u001b[0;32m    324\u001b[0m                 \u001b[1;32mraise\u001b[0m \u001b[0mValueError\u001b[0m\u001b[1;33m(\u001b[0m\u001b[1;34m'Format {} is unknown.'\u001b[0m\u001b[1;33m.\u001b[0m\u001b[0mformat\u001b[0m\u001b[1;33m(\u001b[0m\u001b[0mformat\u001b[0m\u001b[1;33m)\u001b[0m\u001b[1;33m)\u001b[0m\u001b[1;33m\u001b[0m\u001b[0m\n\u001b[0;32m    325\u001b[0m             \u001b[1;32melse\u001b[0m\u001b[1;33m:\u001b[0m\u001b[1;33m\u001b[0m\u001b[0m\n\u001b[1;32m--> 326\u001b[1;33m                 \u001b[1;32mreturn\u001b[0m \u001b[0mconvert_method\u001b[0m\u001b[1;33m(\u001b[0m\u001b[0mcopy\u001b[0m\u001b[1;33m=\u001b[0m\u001b[0mcopy\u001b[0m\u001b[1;33m)\u001b[0m\u001b[1;33m\u001b[0m\u001b[0m\n\u001b[0m\u001b[0;32m    327\u001b[0m \u001b[1;33m\u001b[0m\u001b[0m\n\u001b[0;32m    328\u001b[0m     \u001b[1;31m###################################################################\u001b[0m\u001b[1;33m\u001b[0m\u001b[1;33m\u001b[0m\u001b[0m\n",
      "\u001b[1;32mc:\\python\\python35\\lib\\site-packages\\scipy\\sparse\\coo.py\u001b[0m in \u001b[0;36mtocsc\u001b[1;34m(self, copy)\u001b[0m\n\u001b[0;32m    349\u001b[0m             \u001b[0mindptr\u001b[0m \u001b[1;33m=\u001b[0m \u001b[0mnp\u001b[0m\u001b[1;33m.\u001b[0m\u001b[0mempty\u001b[0m\u001b[1;33m(\u001b[0m\u001b[0mN\u001b[0m \u001b[1;33m+\u001b[0m \u001b[1;36m1\u001b[0m\u001b[1;33m,\u001b[0m \u001b[0mdtype\u001b[0m\u001b[1;33m=\u001b[0m\u001b[0midx_dtype\u001b[0m\u001b[1;33m)\u001b[0m\u001b[1;33m\u001b[0m\u001b[0m\n\u001b[0;32m    350\u001b[0m             \u001b[0mindices\u001b[0m \u001b[1;33m=\u001b[0m \u001b[0mnp\u001b[0m\u001b[1;33m.\u001b[0m\u001b[0mempty_like\u001b[0m\u001b[1;33m(\u001b[0m\u001b[0mrow\u001b[0m\u001b[1;33m,\u001b[0m \u001b[0mdtype\u001b[0m\u001b[1;33m=\u001b[0m\u001b[0midx_dtype\u001b[0m\u001b[1;33m)\u001b[0m\u001b[1;33m\u001b[0m\u001b[0m\n\u001b[1;32m--> 351\u001b[1;33m             \u001b[0mdata\u001b[0m \u001b[1;33m=\u001b[0m \u001b[0mnp\u001b[0m\u001b[1;33m.\u001b[0m\u001b[0mempty_like\u001b[0m\u001b[1;33m(\u001b[0m\u001b[0mself\u001b[0m\u001b[1;33m.\u001b[0m\u001b[0mdata\u001b[0m\u001b[1;33m,\u001b[0m \u001b[0mdtype\u001b[0m\u001b[1;33m=\u001b[0m\u001b[0mupcast\u001b[0m\u001b[1;33m(\u001b[0m\u001b[0mself\u001b[0m\u001b[1;33m.\u001b[0m\u001b[0mdtype\u001b[0m\u001b[1;33m)\u001b[0m\u001b[1;33m)\u001b[0m\u001b[1;33m\u001b[0m\u001b[0m\n\u001b[0m\u001b[0;32m    352\u001b[0m \u001b[1;33m\u001b[0m\u001b[0m\n\u001b[0;32m    353\u001b[0m             coo_tocsr(N, M, self.nnz, col, row, self.data,\n",
      "\u001b[1;32mc:\\python\\python35\\lib\\site-packages\\scipy\\sparse\\sputils.py\u001b[0m in \u001b[0;36mupcast\u001b[1;34m(*args)\u001b[0m\n\u001b[0;32m     50\u001b[0m             \u001b[1;32mreturn\u001b[0m \u001b[0mt\u001b[0m\u001b[1;33m\u001b[0m\u001b[0m\n\u001b[0;32m     51\u001b[0m \u001b[1;33m\u001b[0m\u001b[0m\n\u001b[1;32m---> 52\u001b[1;33m     \u001b[1;32mraise\u001b[0m \u001b[0mTypeError\u001b[0m\u001b[1;33m(\u001b[0m\u001b[1;34m'no supported conversion for types: %r'\u001b[0m \u001b[1;33m%\u001b[0m \u001b[1;33m(\u001b[0m\u001b[0margs\u001b[0m\u001b[1;33m,\u001b[0m\u001b[1;33m)\u001b[0m\u001b[1;33m)\u001b[0m\u001b[1;33m\u001b[0m\u001b[0m\n\u001b[0m\u001b[0;32m     53\u001b[0m \u001b[1;33m\u001b[0m\u001b[0m\n\u001b[0;32m     54\u001b[0m \u001b[1;33m\u001b[0m\u001b[0m\n",
      "\u001b[1;31mTypeError\u001b[0m: no supported conversion for types: (dtype('O'),)"
     ],
     "output_type": "error"
    }
   ],
   "source": [
    "from sklearn.feature_extraction.text import TfidfTransformer\n",
    "transformer = TfidfTransformer(smooth_idf=False)\n",
    "tfidf = transformer.fit_transform(train_df['project_title'])"
   ]
  },
  {
   "cell_type": "code",
   "execution_count": 54,
   "metadata": {},
   "outputs": [
    {
     "data": {
      "text/plain": [
       "['super', 'sight', 'word', 'centers']"
      ]
     },
     "execution_count": 54,
     "metadata": {},
     "output_type": "execute_result"
    }
   ],
   "source": [
    "analyze(\"Super Sight Word Centers\")"
   ]
  },
  {
   "cell_type": "code",
   "execution_count": 51,
   "metadata": {},
   "outputs": [
    {
     "data": {
      "text/plain": [
       "array(['Super Sight Word Centers', 'Keep Calm and Dance On',\n",
       "       'Lets 3Doodle to Learn', ...,\n",
       "       '\\\\\"Sew\\\\\" you think you can design costumes!',\n",
       "       'Can I go to the library?', 'Reader Leaders!'], dtype=object)"
      ]
     },
     "execution_count": 51,
     "metadata": {},
     "output_type": "execute_result"
    }
   ],
   "source": [
    "train_df['project_title'].unique()"
   ]
  },
  {
   "cell_type": "markdown",
   "metadata": {},
   "source": [
    "## 分析project_essay_1列"
   ]
  },
  {
   "cell_type": "code",
   "execution_count": 62,
   "metadata": {},
   "outputs": [
    {
     "data": {
      "text/plain": [
       "0         Most of my kindergarten students come from low...\n",
       "1         Our elementary school is a culturally rich sch...\n",
       "2         Hello;\\r\\nMy name is Mrs. Brotherton. I teach ...\n",
       "3         My students are the greatest students but are ...\n",
       "4         My students are athletes and students who are ...\n",
       "5         My kids tell me each day that they want to mak...\n",
       "6         Kindergarten is the new first grade. My studen...\n",
       "7         First graders are fantastic! They are excited ...\n",
       "8         My seventh graders dream big. They can't wait ...\n",
       "9         I teach first grade in a small farming town in...\n",
       "10        My classroom has 24 students in it. We have an...\n",
       "11        My children come to school everyday with the s...\n",
       "12        My school is located in a high poverty area, j...\n",
       "13        Each day my fifth graders walk into our \\\"home...\n",
       "14        The children at our school come from a variety...\n",
       "15        My third graders are eager to learn new concep...\n",
       "16        My students are Hispanics, Spanish been their ...\n",
       "17        \\\"Learning is an active process. We learn by d...\n",
       "18        During our reading workshop students are at da...\n",
       "19        A preschool classroom, created to meet the nee...\n",
       "20        As a teacher in a low-income/high poverty scho...\n",
       "21        Teaching kindergarten in a diverse district po...\n",
       "22        My mostly Spanish speaking kindergarten studen...\n",
       "23        \\\"You can dream, create, design, and build the...\n",
       "24        My students attend a K-8 school in an impoveri...\n",
       "25        As a teacher in a low-income/high poverty scho...\n",
       "26        I work in a low-income, high poverty school di...\n",
       "27        Our classroom is filled with bright smiles and...\n",
       "28        My students live in a growing school district ...\n",
       "29        We have the best students ever! We are a commu...\n",
       "                                ...                        \n",
       "182050    My third graders live in Central Texas in the ...\n",
       "182051    My students love to read but have not yet disc...\n",
       "182052    My students are a very sweet and special group...\n",
       "182053    The school that I teach at services grades 6-8...\n",
       "182054    Every morning I open up my door and watch my s...\n",
       "182055    My 6th grade students are a wonderfully divers...\n",
       "182056    The students in our school are all low-income,...\n",
       "182057    My students are a group of hardworking fifth g...\n",
       "182058    My amazing kindergarten students are an absolu...\n",
       "182059    Our students come from very diverse background...\n",
       "182060    The majority of my students are 3 and 4 year o...\n",
       "182061    My second grade students are working towards t...\n",
       "182062    A typical day in my classroom includes reading...\n",
       "182063    The end of the school is a tough time.  My stu...\n",
       "182064    My students would be very grateful if you help...\n",
       "182065    My students are a phenomenal group of kids.  I...\n",
       "182066    I've been in many teacher in-services and obse...\n",
       "182067    Benjamin Franklin once said, \\\"Tell me and I f...\n",
       "182068    My students are at-risk readers, who I provide...\n",
       "182069    My school is a choice school.  It is a charter...\n",
       "182070    Hamilton Elementary is a Title 1 school that r...\n",
       "182071    My first grade students come to school everyda...\n",
       "182072    I am blessed to work in a rural, but quickly g...\n",
       "182073    I have a group of inspiring students who will ...\n",
       "182074    My students in my class are sixth, seventh and...\n",
       "182075    I currently teach math in a low-income school ...\n",
       "182076    My students are predominantly Hispanic and oft...\n",
       "182077    I teach science to eighth graders at a suburba...\n",
       "182078    I work with a group of wonderful second grade ...\n",
       "182079    Balanced literacy was a mystery to me until a ...\n",
       "Name: project_essay_1, Length: 182080, dtype: object"
      ]
     },
     "execution_count": 62,
     "metadata": {},
     "output_type": "execute_result"
    }
   ],
   "source": [
    "train_df['project_essay_1']"
   ]
  },
  {
   "cell_type": "markdown",
   "metadata": {},
   "source": [
    "## 分析projecte_essay_2列"
   ]
  },
  {
   "cell_type": "markdown",
   "metadata": {},
   "source": [
    "## 分析project_essay_3列\n",
    "提交日期大于2016-5-17后项目文章由4篇减少到2篇，所以2016-5-17后project_essay_3和project_essay_4为NaN"
   ]
  },
  {
   "cell_type": "markdown",
   "metadata": {},
   "source": [
    "## 分析project_essay_4列"
   ]
  },
  {
   "cell_type": "markdown",
   "metadata": {},
   "source": [
    "## 分析project_resource_summary"
   ]
  },
  {
   "cell_type": "markdown",
   "metadata": {},
   "source": [
    "## 分析teacher_number_of_previously_posted_projects"
   ]
  },
  {
   "cell_type": "markdown",
   "metadata": {},
   "source": [
    "## 分析prject_is_approved\n",
    "目标变量，也是我们要预测的是变量，项目是否通过。由此可知我们要建立的模型为二分类模型。由正负比例可知数据为非平衡数据。"
   ]
  },
  {
   "cell_type": "code",
   "execution_count": 63,
   "metadata": {},
   "outputs": [
    {
     "data": {
      "text/plain": [
       "array([1, 0], dtype=int64)"
      ]
     },
     "execution_count": 63,
     "metadata": {},
     "output_type": "execute_result"
    }
   ],
   "source": [
    "train_df['project_is_approved'].unique()"
   ]
  },
  {
   "cell_type": "code",
   "execution_count": 64,
   "metadata": {},
   "outputs": [
    {
     "data": {
      "text/plain": [
       "0.8476823374340949"
      ]
     },
     "execution_count": 64,
     "metadata": {},
     "output_type": "execute_result"
    }
   ],
   "source": [
    "train_df[train_df['project_is_approved'] == 1].shape[0] / train_df.shape[0]"
   ]
  },
  {
   "cell_type": "code",
   "execution_count": 26,
   "metadata": {},
   "outputs": [
    {
     "data": {
      "text/html": [
       "<div>\n",
       "<style scoped>\n",
       "    .dataframe tbody tr th:only-of-type {\n",
       "        vertical-align: middle;\n",
       "    }\n",
       "\n",
       "    .dataframe tbody tr th {\n",
       "        vertical-align: top;\n",
       "    }\n",
       "\n",
       "    .dataframe thead th {\n",
       "        text-align: right;\n",
       "    }\n",
       "</style>\n",
       "<table border=\"1\" class=\"dataframe\">\n",
       "  <thead>\n",
       "    <tr style=\"text-align: right;\">\n",
       "      <th></th>\n",
       "      <th>id</th>\n",
       "      <th>teacher_id</th>\n",
       "      <th>teacher_prefix</th>\n",
       "      <th>school_state</th>\n",
       "      <th>project_submitted_datetime</th>\n",
       "      <th>project_grade_category</th>\n",
       "      <th>project_subject_categories</th>\n",
       "      <th>project_subject_subcategories</th>\n",
       "      <th>project_title</th>\n",
       "      <th>project_essay_1</th>\n",
       "      <th>project_essay_2</th>\n",
       "      <th>project_essay_3</th>\n",
       "      <th>project_essay_4</th>\n",
       "      <th>project_resource_summary</th>\n",
       "      <th>teacher_number_of_previously_posted_projects</th>\n",
       "      <th>project_is_approved</th>\n",
       "      <th>project_submitted_year</th>\n",
       "      <th>project_submitted_month</th>\n",
       "      <th>project_submitted_day</th>\n",
       "    </tr>\n",
       "  </thead>\n",
       "  <tbody>\n",
       "    <tr>\n",
       "      <th>0</th>\n",
       "      <td>p036502</td>\n",
       "      <td>484aaf11257089a66cfedc9461c6bd0a</td>\n",
       "      <td>Ms.</td>\n",
       "      <td>NV</td>\n",
       "      <td>2016-11-18 14:45:59</td>\n",
       "      <td>Grades PreK-2</td>\n",
       "      <td>Literacy &amp; Language</td>\n",
       "      <td>Literacy</td>\n",
       "      <td>Super Sight Word Centers</td>\n",
       "      <td>Most of my kindergarten students come from low...</td>\n",
       "      <td>I currently have a differentiated sight word c...</td>\n",
       "      <td>NaN</td>\n",
       "      <td>NaN</td>\n",
       "      <td>My students need 6 Ipod Nano's to create and d...</td>\n",
       "      <td>26</td>\n",
       "      <td>1</td>\n",
       "      <td>2016</td>\n",
       "      <td>11</td>\n",
       "      <td>18</td>\n",
       "    </tr>\n",
       "    <tr>\n",
       "      <th>1</th>\n",
       "      <td>p039565</td>\n",
       "      <td>df72a3ba8089423fa8a94be88060f6ed</td>\n",
       "      <td>Mrs.</td>\n",
       "      <td>GA</td>\n",
       "      <td>2017-04-26 15:57:28</td>\n",
       "      <td>Grades 3-5</td>\n",
       "      <td>Music &amp; The Arts, Health &amp; Sports</td>\n",
       "      <td>Performing Arts, Team Sports</td>\n",
       "      <td>Keep Calm and Dance On</td>\n",
       "      <td>Our elementary school is a culturally rich sch...</td>\n",
       "      <td>We strive to provide our diverse population of...</td>\n",
       "      <td>NaN</td>\n",
       "      <td>NaN</td>\n",
       "      <td>My students need matching shirts to wear for d...</td>\n",
       "      <td>1</td>\n",
       "      <td>0</td>\n",
       "      <td>2017</td>\n",
       "      <td>4</td>\n",
       "      <td>26</td>\n",
       "    </tr>\n",
       "    <tr>\n",
       "      <th>2</th>\n",
       "      <td>p233823</td>\n",
       "      <td>a9b876a9252e08a55e3d894150f75ba3</td>\n",
       "      <td>Ms.</td>\n",
       "      <td>UT</td>\n",
       "      <td>2017-01-01 22:57:44</td>\n",
       "      <td>Grades 3-5</td>\n",
       "      <td>Math &amp; Science, Literacy &amp; Language</td>\n",
       "      <td>Applied Sciences, Literature &amp; Writing</td>\n",
       "      <td>Lets 3Doodle to Learn</td>\n",
       "      <td>Hello;\\r\\nMy name is Mrs. Brotherton. I teach ...</td>\n",
       "      <td>We are looking to add some 3Doodler to our cla...</td>\n",
       "      <td>NaN</td>\n",
       "      <td>NaN</td>\n",
       "      <td>My students need the 3doodler. We are an SEM s...</td>\n",
       "      <td>5</td>\n",
       "      <td>1</td>\n",
       "      <td>2017</td>\n",
       "      <td>1</td>\n",
       "      <td>1</td>\n",
       "    </tr>\n",
       "    <tr>\n",
       "      <th>3</th>\n",
       "      <td>p185307</td>\n",
       "      <td>525fdbb6ec7f538a48beebaa0a51b24f</td>\n",
       "      <td>Mr.</td>\n",
       "      <td>NC</td>\n",
       "      <td>2016-08-12 15:42:11</td>\n",
       "      <td>Grades 3-5</td>\n",
       "      <td>Health &amp; Sports</td>\n",
       "      <td>Health &amp; Wellness</td>\n",
       "      <td>\\\"Kid Inspired\\\" Equipment to Increase Activit...</td>\n",
       "      <td>My students are the greatest students but are ...</td>\n",
       "      <td>The student's project which is totally \\\"kid-i...</td>\n",
       "      <td>NaN</td>\n",
       "      <td>NaN</td>\n",
       "      <td>My students need balls and other activity equi...</td>\n",
       "      <td>16</td>\n",
       "      <td>0</td>\n",
       "      <td>2016</td>\n",
       "      <td>8</td>\n",
       "      <td>12</td>\n",
       "    </tr>\n",
       "    <tr>\n",
       "      <th>4</th>\n",
       "      <td>p013780</td>\n",
       "      <td>a63b5547a7239eae4c1872670848e61a</td>\n",
       "      <td>Mr.</td>\n",
       "      <td>CA</td>\n",
       "      <td>2016-08-06 09:09:11</td>\n",
       "      <td>Grades 6-8</td>\n",
       "      <td>Health &amp; Sports</td>\n",
       "      <td>Health &amp; Wellness</td>\n",
       "      <td>We need clean water for our culinary arts class!</td>\n",
       "      <td>My students are athletes and students who are ...</td>\n",
       "      <td>For some reason in our kitchen the water comes...</td>\n",
       "      <td>NaN</td>\n",
       "      <td>NaN</td>\n",
       "      <td>My students need a water filtration system for...</td>\n",
       "      <td>42</td>\n",
       "      <td>1</td>\n",
       "      <td>2016</td>\n",
       "      <td>8</td>\n",
       "      <td>6</td>\n",
       "    </tr>\n",
       "  </tbody>\n",
       "</table>\n",
       "</div>"
      ],
      "text/plain": [
       "        id                        teacher_id teacher_prefix school_state  \\\n",
       "0  p036502  484aaf11257089a66cfedc9461c6bd0a            Ms.           NV   \n",
       "1  p039565  df72a3ba8089423fa8a94be88060f6ed           Mrs.           GA   \n",
       "2  p233823  a9b876a9252e08a55e3d894150f75ba3            Ms.           UT   \n",
       "3  p185307  525fdbb6ec7f538a48beebaa0a51b24f            Mr.           NC   \n",
       "4  p013780  a63b5547a7239eae4c1872670848e61a            Mr.           CA   \n",
       "\n",
       "  project_submitted_datetime project_grade_category  \\\n",
       "0        2016-11-18 14:45:59          Grades PreK-2   \n",
       "1        2017-04-26 15:57:28             Grades 3-5   \n",
       "2        2017-01-01 22:57:44             Grades 3-5   \n",
       "3        2016-08-12 15:42:11             Grades 3-5   \n",
       "4        2016-08-06 09:09:11             Grades 6-8   \n",
       "\n",
       "            project_subject_categories  \\\n",
       "0                  Literacy & Language   \n",
       "1    Music & The Arts, Health & Sports   \n",
       "2  Math & Science, Literacy & Language   \n",
       "3                      Health & Sports   \n",
       "4                      Health & Sports   \n",
       "\n",
       "            project_subject_subcategories  \\\n",
       "0                                Literacy   \n",
       "1            Performing Arts, Team Sports   \n",
       "2  Applied Sciences, Literature & Writing   \n",
       "3                       Health & Wellness   \n",
       "4                       Health & Wellness   \n",
       "\n",
       "                                       project_title  \\\n",
       "0                           Super Sight Word Centers   \n",
       "1                             Keep Calm and Dance On   \n",
       "2                              Lets 3Doodle to Learn   \n",
       "3  \\\"Kid Inspired\\\" Equipment to Increase Activit...   \n",
       "4   We need clean water for our culinary arts class!   \n",
       "\n",
       "                                     project_essay_1  \\\n",
       "0  Most of my kindergarten students come from low...   \n",
       "1  Our elementary school is a culturally rich sch...   \n",
       "2  Hello;\\r\\nMy name is Mrs. Brotherton. I teach ...   \n",
       "3  My students are the greatest students but are ...   \n",
       "4  My students are athletes and students who are ...   \n",
       "\n",
       "                                     project_essay_2 project_essay_3  \\\n",
       "0  I currently have a differentiated sight word c...             NaN   \n",
       "1  We strive to provide our diverse population of...             NaN   \n",
       "2  We are looking to add some 3Doodler to our cla...             NaN   \n",
       "3  The student's project which is totally \\\"kid-i...             NaN   \n",
       "4  For some reason in our kitchen the water comes...             NaN   \n",
       "\n",
       "  project_essay_4                           project_resource_summary  \\\n",
       "0             NaN  My students need 6 Ipod Nano's to create and d...   \n",
       "1             NaN  My students need matching shirts to wear for d...   \n",
       "2             NaN  My students need the 3doodler. We are an SEM s...   \n",
       "3             NaN  My students need balls and other activity equi...   \n",
       "4             NaN  My students need a water filtration system for...   \n",
       "\n",
       "   teacher_number_of_previously_posted_projects  project_is_approved  \\\n",
       "0                                            26                    1   \n",
       "1                                             1                    0   \n",
       "2                                             5                    1   \n",
       "3                                            16                    0   \n",
       "4                                            42                    1   \n",
       "\n",
       "   project_submitted_year  project_submitted_month  project_submitted_day  \n",
       "0                    2016                       11                     18  \n",
       "1                    2017                        4                     26  \n",
       "2                    2017                        1                      1  \n",
       "3                    2016                        8                     12  \n",
       "4                    2016                        8                      6  "
      ]
     },
     "execution_count": 26,
     "metadata": {},
     "output_type": "execute_result"
    }
   ],
   "source": [
    "train_df.head()"
   ]
  },
  {
   "cell_type": "code",
   "execution_count": 29,
   "metadata": {},
   "outputs": [],
   "source": [
    "df = resources_df[['id', 'price']].groupby(['id'])['price'].count()"
   ]
  },
  {
   "cell_type": "code",
   "execution_count": 30,
   "metadata": {},
   "outputs": [
    {
     "data": {
      "text/plain": [
       "100"
      ]
     },
     "execution_count": 30,
     "metadata": {},
     "output_type": "execute_result"
    }
   ],
   "source": [
    "df.max()"
   ]
  },
  {
   "cell_type": "code",
   "execution_count": 41,
   "metadata": {},
   "outputs": [
    {
     "data": {
      "text/plain": [
       "0"
      ]
     },
     "execution_count": 41,
     "metadata": {},
     "output_type": "execute_result"
    }
   ],
   "source": [
    "missing_df = train_df.isnull().sum(axis=0)\n",
    "missing_df['id']"
   ]
  },
  {
   "cell_type": "code",
   "execution_count": 38,
   "metadata": {},
   "outputs": [
    {
     "data": {
      "text/plain": [
       "0         24\n",
       "1         22\n",
       "2         21\n",
       "3         72\n",
       "4         48\n",
       "5         37\n",
       "6         21\n",
       "7         36\n",
       "8         37\n",
       "9         27\n",
       "10        26\n",
       "11        17\n",
       "12        29\n",
       "13        52\n",
       "14        16\n",
       "15        13\n",
       "16        29\n",
       "17        41\n",
       "18        19\n",
       "19        26\n",
       "20        37\n",
       "21        54\n",
       "22        38\n",
       "23        36\n",
       "24        35\n",
       "25        51\n",
       "26        28\n",
       "27        20\n",
       "28        35\n",
       "29        12\n",
       "          ..\n",
       "182050    50\n",
       "182051    15\n",
       "182052    16\n",
       "182053    51\n",
       "182054    20\n",
       "182055    40\n",
       "182056    57\n",
       "182057    65\n",
       "182058    42\n",
       "182059    67\n",
       "182060    29\n",
       "182061    24\n",
       "182062    22\n",
       "182063    31\n",
       "182064    47\n",
       "182065    27\n",
       "182066    20\n",
       "182067    22\n",
       "182068    65\n",
       "182069    45\n",
       "182070    43\n",
       "182071    30\n",
       "182072    39\n",
       "182073    14\n",
       "182074    18\n",
       "182075    13\n",
       "182076    42\n",
       "182077    21\n",
       "182078    24\n",
       "182079    15\n",
       "Name: project_title, Length: 182080, dtype: int64"
      ]
     },
     "execution_count": 38,
     "metadata": {},
     "output_type": "execute_result"
    }
   ],
   "source": [
    "train_df['project_title'].apply(lambda x: len(x))"
   ]
  },
  {
   "cell_type": "code",
   "execution_count": null,
   "metadata": {},
   "outputs": [],
   "source": []
  }
 ],
 "metadata": {
  "kernelspec": {
   "display_name": "Python 3",
   "language": "python",
   "name": "python3"
  },
  "language_info": {
   "codemirror_mode": {
    "name": "ipython",
    "version": 3
   },
   "file_extension": ".py",
   "mimetype": "text/x-python",
   "name": "python",
   "nbconvert_exporter": "python",
   "pygments_lexer": "ipython3",
   "version": "3.5.4rc1"
  }
 },
 "nbformat": 4,
 "nbformat_minor": 2
}
