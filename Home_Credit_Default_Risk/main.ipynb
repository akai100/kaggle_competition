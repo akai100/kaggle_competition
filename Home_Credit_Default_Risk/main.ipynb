{
 "cells": [
  {
   "cell_type": "code",
   "execution_count": 1,
   "metadata": {},
   "outputs": [],
   "source": [
    "import numpy as np\n",
    "import pandas as pd\n",
    "import matplotlib.pyplot as plt"
   ]
  },
  {
   "cell_type": "code",
   "execution_count": null,
   "metadata": {},
   "outputs": [],
   "source": [
    "application_train_df = pd.read_csv(\"input/application_train.csv\")\n",
    "application_test_df = pd.read_csv(\"input/application_test.csv\")\n",
    "bureau_df = pd.read_csv(\"input/bureau.csv\")\n",
    "bureau_balance_df = pd.read_csv(\"input/bureau_balance.csv\")\n",
    "credit_card_balance_df = pd.read_csv(\"input/credit_card_balance.csv\")\n",
    "HomeCredit_columns_description_df = pd.read_csv(\"input/HomeCredit_columns_description.csv\")\n",
    "installments_payments_df = pd.read_csv(\"input/installments_payments.csv\")\n",
    "POS_CASH_balance_df = pd.read_csv(\"input/POS_CASH_balance.csv\")\n",
    "previous_application_df = pd.read_csv(\"input/previous_application.csv\")"
   ]
  },
  {
   "cell_type": "code",
   "execution_count": null,
   "metadata": {},
   "outputs": [],
   "source": []
  }
 ],
 "metadata": {
  "kernelspec": {
   "display_name": "Python 3",
   "language": "python",
   "name": "python3"
  },
  "language_info": {
   "codemirror_mode": {
    "name": "ipython",
    "version": 3
   },
   "file_extension": ".py",
   "mimetype": "text/x-python",
   "name": "python",
   "nbconvert_exporter": "python",
   "pygments_lexer": "ipython3",
   "version": "3.5.4rc1"
  }
 },
 "nbformat": 4,
 "nbformat_minor": 2
}
